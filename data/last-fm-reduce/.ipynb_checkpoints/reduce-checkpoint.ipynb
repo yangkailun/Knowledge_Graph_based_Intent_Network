{
 "cells": [
  {
   "cell_type": "code",
   "execution_count": 1,
   "metadata": {},
   "outputs": [],
   "source": [
    "# #先对train.txt\n",
    "# #保留编号前n个物品\n",
    "# n = 1000\n",
    "# # 分步骤实现，第一步，先筛出要留下的物品id\n",
    "# with open('new-train-1.txt','w') as f:\n",
    "#     for line in open('train.txt','r'):\n",
    "#         data = line.strip('\\n').split(' ')\n",
    "#         new_data = data[0]\n",
    "#         # 如果用户没有点击数，这种排除\n",
    "#         if len(data) > 1:\n",
    "#             for i in range(1,len(data)):\n",
    "#                 if int(data[i]) < 1000:\n",
    "#                     new_data += ' '+data[i]\n",
    "#         f.write(new_data+'\\n')"
   ]
  },
  {
   "cell_type": "code",
   "execution_count": 2,
   "metadata": {},
   "outputs": [],
   "source": [
    "# # 再对test.txt\n",
    "# #保留编号前n个物品\n",
    "# n = 1000\n",
    "# # 分步骤实现，第一步，先筛出要留下的物品id\n",
    "# with open('new-test-1.txt','w') as f:\n",
    "#     for line in open('test.txt','r'):\n",
    "#         data = line.strip('\\n').split(' ')\n",
    "#         new_data = data[0]\n",
    "#         # 如果用户没有点击数，这种排除\n",
    "#         if len(data) > 1:\n",
    "#             for i in range(1,len(data)):\n",
    "#                 if int(data[i]) < 1000:\n",
    "#                     new_data += ' '+data[i]\n",
    "#         f.write(new_data+'\\n')"
   ]
  },
  {
   "cell_type": "code",
   "execution_count": 22,
   "metadata": {},
   "outputs": [],
   "source": [
    "# 上面的按照物品删除的策略暂时想有点复杂，先停下，按照用户删\n",
    "n = 50\n",
    "count = 0\n",
    "with open('new-train-1.txt','w') as f:\n",
    "    for line in open('train.txt','r'):\n",
    "        if count < n:\n",
    "            f.write(line)\n",
    "        else:\n",
    "            break\n",
    "        count += 1\n"
   ]
  },
  {
   "cell_type": "code",
   "execution_count": 23,
   "metadata": {},
   "outputs": [],
   "source": [
    "count = 0\n",
    "with open('new-test-1.txt','w') as f:\n",
    "    for line in open('test.txt','r'):\n",
    "        if count < n:\n",
    "            f.write(line)\n",
    "        else:\n",
    "            break\n",
    "        count += 1"
   ]
  },
  {
   "cell_type": "code",
   "execution_count": 24,
   "metadata": {},
   "outputs": [],
   "source": [
    "# 统计删除后的测试集和训练集中的物品种类是否有缩减\n",
    "items = []\n",
    "for line in open('new-train-1.txt','r'):\n",
    "    data = line.strip('\\n').split(' ')\n",
    "    for i in range(1,len(data)):\n",
    "        items.append(int(data[i]))\n",
    "for line in open('new-test-1.txt','r'):\n",
    "    data = line.strip('\\n').split(' ')\n",
    "    for i in range(1,len(data)):\n",
    "        items.append(int(data[i])) "
   ]
  },
  {
   "cell_type": "code",
   "execution_count": 27,
   "metadata": {},
   "outputs": [
    {
     "name": "stdout",
     "output_type": "stream",
     "text": [
      "39612\n"
     ]
    }
   ],
   "source": [
    "# 缩减后剩下的item数量\n",
    "item_num = len(set(items))\n",
    "# 之前的item数量\n",
    "item_num_ori = 48123\n",
    "# 缩减了多少item\n",
    "item_num_reduce = item_num_ori - item_num\n",
    "print(item_num_reduce)"
   ]
  },
  {
   "cell_type": "code",
   "execution_count": 29,
   "metadata": {},
   "outputs": [],
   "source": [
    "# 通过字典映射的方式对留下来的物品从0重新编号\n",
    "# 采用分两类进行，对于物品，通过字典直接映射;对于kg实体的编号\n",
    "# 直接减去缩减的数量(item_num_reduce)\n",
    "item_recode = {}\n",
    "# 重新编号的物品\n",
    "index = 0\n",
    "with open('new-test-2.txt','w') as f:\n",
    "    for line in open('new-test-1.txt','r'):\n",
    "        data = line.strip('\\n').split(' ')\n",
    "        new_data = data[0]\n",
    "        for i in range(1,len(data)):\n",
    "            # 物品还没有被重新编号的话\n",
    "            if int(data[i]) not in item_recode:\n",
    "                item_recode[int(data[i])] = index\n",
    "                new_data += ' '+str(index)\n",
    "                index += 1\n",
    "            # 如果已经被重新编号，直接取出\n",
    "            else:\n",
    "                new_data += ' '+str(item_recode[int(data[i])])\n",
    "        new_data += '\\n'\n",
    "        f.write(new_data)"
   ]
  },
  {
   "cell_type": "code",
   "execution_count": 30,
   "metadata": {},
   "outputs": [],
   "source": [
    "with open('new-train-2.txt','w') as f:\n",
    "    for line in open('new-train-1.txt','r'):\n",
    "        data = line.strip('\\n').split(' ')\n",
    "        new_data = data[0]\n",
    "        for i in range(1,len(data)):\n",
    "            # 物品还没有被重新编号的话\n",
    "            if int(data[i]) not in item_recode:\n",
    "                item_recode[int(data[i])] = index\n",
    "                new_data += ' '+str(index)\n",
    "                index += 1\n",
    "            # 如果已经被重新编号，直接取出\n",
    "            else:\n",
    "                new_data += ' '+str(item_recode[int(data[i])])\n",
    "        new_data += '\\n'\n",
    "        f.write(new_data)"
   ]
  },
  {
   "cell_type": "code",
   "execution_count": 32,
   "metadata": {},
   "outputs": [],
   "source": [
    "# 对kg.final.txt进行删除和重新编码\n",
    "# 存放重新编码后的kg实体，查看一下有没有少。\n",
    "kg_entity = []\n",
    "with open('new-kg-1.txt','w') as f:\n",
    "    for line in open('kg_final.txt','r'):\n",
    "        data = line.strip('\\n').split(' ')\n",
    "        new_data = ''\n",
    "        head = int(data[0])\n",
    "        tail = int(data[-1])\n",
    "        # 如果是kg实体，不是物品\n",
    "        if head >= item_num_ori:\n",
    "            new_data += str(head - item_num_reduce)\n",
    "            kg_entity.append(head - item_num_reduce)\n",
    "        # 如果是保留的物品,重新编码\n",
    "        elif head in item_recode:\n",
    "            new_data += str(item_recode[head])\n",
    "        else:\n",
    "            continue\n",
    "        new_data += ' '+data[1]+' '\n",
    "        if tail >= item_num_ori:\n",
    "            new_data += str(tail - item_num_reduce)\n",
    "            kg_entity.append(tail - item_num_reduce)\n",
    "        # 如果是保留的物品,重新编码\n",
    "        elif tail in item_recode:\n",
    "            new_data += str(item_recode[tail])\n",
    "        else:\n",
    "            continue\n",
    "        f.write(new_data+'\\n')"
   ]
  },
  {
   "cell_type": "code",
   "execution_count": 33,
   "metadata": {},
   "outputs": [
    {
     "name": "stdout",
     "output_type": "stream",
     "text": [
      "49344\n"
     ]
    }
   ],
   "source": [
    "print(len(set(kg_entity)))"
   ]
  },
  {
   "cell_type": "code",
   "execution_count": 34,
   "metadata": {},
   "outputs": [],
   "source": [
    "# 循环遍历新的kg.txt,删除没有链接的kg\n",
    "entity_dict = {}\n",
    "old_num = 0\n",
    "while True:\n",
    "    for line in open('new-kg-1.txt','r'):\n",
    "        data = line.strip('\\n').split(' ')\n",
    "        head = int(data[0])\n",
    "        tail = int(data[-1])\n",
    "        # 如果是物品\n",
    "        if head < item_num or head in entity_dict:\n",
    "            if tail >= item_num:\n",
    "                entity_dict[tail] = 1\n",
    "        elif tail < item_num or tail in entity_dict:\n",
    "            entity_dict[head] = 1\n",
    "    new_num = len(entity_dict)\n",
    "    if new_num == old_num:\n",
    "        break\n",
    "    old_num = new_num"
   ]
  },
  {
   "cell_type": "code",
   "execution_count": 35,
   "metadata": {},
   "outputs": [
    {
     "name": "stdout",
     "output_type": "stream",
     "text": [
      "49334\n"
     ]
    }
   ],
   "source": [
    "print(new_num)"
   ]
  },
  {
   "cell_type": "code",
   "execution_count": 37,
   "metadata": {},
   "outputs": [],
   "source": [
    "# 对kg 实体进行重新编码\n",
    "kg_recode = {}\n",
    "index = item_num\n",
    "with open('new-kg-2.txt','w') as f:\n",
    "    for line in open('new-kg-1.txt','r'):\n",
    "        data = line.strip('\\n').split(' ')\n",
    "        new_data = ''\n",
    "        head = int(data[0])\n",
    "        tail = int(data[-1])\n",
    "        if head >= item_num:\n",
    "            if head not in kg_recode:\n",
    "                kg_recode[head] = index\n",
    "                new_data += str(index)\n",
    "                index += 1\n",
    "            else:\n",
    "                new_data += str(kg_recode[head])\n",
    "        else:\n",
    "            new_data += str(head)\n",
    "        new_data += ' '+data[1]+' '\n",
    "        if tail >= item_num:\n",
    "            if tail not in kg_recode:\n",
    "                kg_recode[tail] = index\n",
    "                new_data += str(index)+'\\n'\n",
    "                index += 1\n",
    "            else:\n",
    "                new_data += str(kg_recode[tail])+'\\n'\n",
    "        else:\n",
    "            new_data += str(tail)+'\\n'\n",
    "        f.write(new_data)"
   ]
  },
  {
   "cell_type": "code",
   "execution_count": 38,
   "metadata": {},
   "outputs": [
    {
     "name": "stdout",
     "output_type": "stream",
     "text": [
      "{0, 1, 2, 3, 4, 5, 6, 7, 8}\n"
     ]
    }
   ],
   "source": [
    "# 验证缩减后的kg是否还有原来的哪些关系\n",
    "relations = []\n",
    "for line in open('new-kg-2.txt','r'):\n",
    "    data = line.strip('\\n').split(' ')\n",
    "    relation = int(data[1])\n",
    "    relations.append(relation)\n",
    "print(set(relations))\n",
    "    "
   ]
  },
  {
   "cell_type": "code",
   "execution_count": null,
   "metadata": {},
   "outputs": [],
   "source": []
  }
 ],
 "metadata": {
  "kernelspec": {
   "display_name": "Python 3",
   "language": "python",
   "name": "python3"
  },
  "language_info": {
   "codemirror_mode": {
    "name": "ipython",
    "version": 3
   },
   "file_extension": ".py",
   "mimetype": "text/x-python",
   "name": "python",
   "nbconvert_exporter": "python",
   "pygments_lexer": "ipython3",
   "version": "3.7.0"
  }
 },
 "nbformat": 4,
 "nbformat_minor": 2
}
