{
 "cells": [
  {
   "cell_type": "code",
   "execution_count": 1,
   "metadata": {},
   "outputs": [],
   "source": [
    "# #先对train.txt\n",
    "# #保留编号前n个物品\n",
    "# n = 1000\n",
    "# # 分步骤实现，第一步，先筛出要留下的物品id\n",
    "# with open('new-train-1.txt','w') as f:\n",
    "#     for line in open('train.txt','r'):\n",
    "#         data = line.strip('\\n').split(' ')\n",
    "#         new_data = data[0]\n",
    "#         # 如果用户没有点击数，这种排除\n",
    "#         if len(data) > 1:\n",
    "#             for i in range(1,len(data)):\n",
    "#                 if int(data[i]) < 1000:\n",
    "#                     new_data += ' '+data[i]\n",
    "#         f.write(new_data+'\\n')"
   ]
  },
  {
   "cell_type": "code",
   "execution_count": 2,
   "metadata": {},
   "outputs": [],
   "source": [
    "# # 再对test.txt\n",
    "# #保留编号前n个物品\n",
    "# n = 1000\n",
    "# # 分步骤实现，第一步，先筛出要留下的物品id\n",
    "# with open('new-test-1.txt','w') as f:\n",
    "#     for line in open('test.txt','r'):\n",
    "#         data = line.strip('\\n').split(' ')\n",
    "#         new_data = data[0]\n",
    "#         # 如果用户没有点击数，这种排除\n",
    "#         if len(data) > 1:\n",
    "#             for i in range(1,len(data)):\n",
    "#                 if int(data[i]) < 1000:\n",
    "#                     new_data += ' '+data[i]\n",
    "#         f.write(new_data+'\\n')"
   ]
  },
  {
   "cell_type": "code",
   "execution_count": 22,
   "metadata": {},
   "outputs": [],
   "source": [
    "# 上面的按照物品删除的策略暂时想有点复杂，先停下，按照用户删\n",
    "n = 50\n",
    "count = 0\n",
    "with open('new-train-1.txt','w') as f:\n",
    "    for line in open('train.txt','r'):\n",
    "        if count < n:\n",
    "            f.write(line)\n",
    "        else:\n",
    "            break\n",
    "        count += 1\n"
   ]
  },
  {
   "cell_type": "code",
   "execution_count": 23,
   "metadata": {},
   "outputs": [],
   "source": [
    "count = 0\n",
    "with open('new-test-1.txt','w') as f:\n",
    "    for line in open('test.txt','r'):\n",
    "        if count < n:\n",
    "            f.write(line)\n",
    "        else:\n",
    "            break\n",
    "        count += 1"
   ]
  },
  {
   "cell_type": "code",
   "execution_count": 24,
   "metadata": {},
   "outputs": [],
   "source": [
    "# 统计删除后的测试集和训练集中的物品种类是否有缩减\n",
    "items = []\n",
    "for line in open('new-train-1.txt','r'):\n",
    "    data = line.strip('\\n').split(' ')\n",
    "    for i in range(1,len(data)):\n",
    "        items.append(int(data[i]))\n",
    "for line in open('new-test-1.txt','r'):\n",
    "    data = line.strip('\\n').split(' ')\n",
    "    for i in range(1,len(data)):\n",
    "        items.append(int(data[i])) "
   ]
  },
  {
   "cell_type": "code",
   "execution_count": 25,
   "metadata": {},
   "outputs": [
    {
     "name": "stdout",
     "output_type": "stream",
     "text": [
      "8511\n"
     ]
    }
   ],
   "source": [
    "print(len(set(items)))"
   ]
  },
  {
   "cell_type": "code",
   "execution_count": null,
   "metadata": {},
   "outputs": [],
   "source": [
    "# 通过字典映射的方式对留下来的物品从0重新编号\n",
    "item_recode = {}\n"
   ]
  }
 ],
 "metadata": {
  "kernelspec": {
   "display_name": "Python 3",
   "language": "python",
   "name": "python3"
  },
  "language_info": {
   "codemirror_mode": {
    "name": "ipython",
    "version": 3
   },
   "file_extension": ".py",
   "mimetype": "text/x-python",
   "name": "python",
   "nbconvert_exporter": "python",
   "pygments_lexer": "ipython3",
   "version": "3.7.0"
  }
 },
 "nbformat": 4,
 "nbformat_minor": 2
}
